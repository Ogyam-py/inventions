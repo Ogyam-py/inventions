{
 "cells": [
  {
   "cell_type": "code",
   "execution_count": 4,
   "metadata": {},
   "outputs": [],
   "source": [
    "# Importing the tkinter and creating the root widget\n",
    "from tkinter import *\n",
    "\n",
    "root = Tk()\n",
    "root.geometry()\n",
    "# CREATE\n",
    "mylabel = Label(root, text = \"My first GUI\")\n",
    "\n",
    "# DISPLAY\n",
    "mylabel.pack()\n",
    "\n",
    "\n",
    "root.mainloop()\n"
   ]
  },
  {
   "cell_type": "code",
   "execution_count": 5,
   "metadata": {},
   "outputs": [],
   "source": [
    "# POSITIONING THINGS WITH GRID\n",
    "from tkinter import *\n",
    "\n",
    "root = Tk()\n",
    "root.geometry()\n",
    "\n",
    "# Create label\n",
    "mylabel1 = Label(root, text = \"My first GUI\").grid(row = 0, column=0)\n",
    "mylabel2 = Label(root, text = \"Helo Pythonist\").grid(row = 1, column=1)\n",
    "mylabel3 = Label(root, text = \"We are moving forward\").grid(row = 2, column=2)\n",
    "\n",
    "root.mainloop()"
   ]
  },
  {
   "cell_type": "code",
   "execution_count": 5,
   "metadata": {},
   "outputs": [],
   "source": [
    "# CREATING BUTTONS\n",
    "from tkinter import *\n",
    "\n",
    "root = Tk()\n",
    "\n",
    "def disp():\n",
    "    Label(root, text = \"Login Successful\").pack()\n",
    "\n",
    "def action():\n",
    "    name = Entry(root).pack()\n",
    "    password = Entry(root).pack()\n",
    "    mybutton1 = Button(root, text = \"continue\", command = disp).pack()\n",
    "\n",
    "\n",
    "mybutton = Button(root, text = \"Login\", padx = 50, fg = \"blue\", command=action).pack()\n",
    "\n",
    "\n",
    "root.mainloop()"
   ]
  }
 ],
 "metadata": {
  "kernelspec": {
   "display_name": "Python 3",
   "language": "python",
   "name": "python3"
  },
  "language_info": {
   "codemirror_mode": {
    "name": "ipython",
    "version": 3
   },
   "file_extension": ".py",
   "mimetype": "text/x-python",
   "name": "python",
   "nbconvert_exporter": "python",
   "pygments_lexer": "ipython3",
   "version": "3.11.3"
  },
  "orig_nbformat": 4
 },
 "nbformat": 4,
 "nbformat_minor": 2
}
